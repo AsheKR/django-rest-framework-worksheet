{
 "cells": [
  {
   "cell_type": "markdown",
   "metadata": {},
   "source": [
    "# ViewSet\n",
    "\n",
    "## View\n",
    "\n",
    "요청을 적절하게 해석하고, Response 를 리턴하기 위해 논리적인 로직을 구현하는 곳\n",
    "\n",
    "## ViewSet\n",
    "\n",
    "비슷한 구조를 가진 뷰를 한 곳에서 사용할 수 있도록 해주는 추상 클래스\n",
    "\n",
    "예를 들어 아래와 같은 API 를 만들어야 한다면 `ViewSet` 하나를 사용하여 여러 `View` 를 사용하지 않고 작성할 수 있습니다.\n",
    "\n",
    "```\n",
    "GET /api/users/\n",
    "POST /api/users/\n",
    "GET /api/users/<int:id>/\n",
    "POST /api/users/<int:id>/set_staff\n",
    "```\n",
    "\n",
    "### 특징 ( View 와 다른 점 )\n",
    "\n",
    "- **반복된 논리를 중복하지 않고 일관된 형태로 작성이 가능**\n",
    "- 일반적인 패턴을 추상화했기 때문에 빠르게 API 작성 가능\n",
    "- HTTP Method 를 사용하지 않음 ( get -> list, post -> create )\n",
    "- CRDU 이외의 동작을 담을 수 있음\n",
    "- URL 연결을 자동화할 수 있음\n",
    "\n",
    "**지금은 특징들을 잘 모르더라도**\n",
    "\n",
    "**문서를 보고 다른 것과 어떻게 다른지,**\n",
    "\n",
    "**다른 방법으로 구현해보며 각각의 특징들을 익혀갑니다.**"
   ]
  },
  {
   "cell_type": "markdown",
   "metadata": {},
   "source": [
    "---\n",
    "\n",
    "# ViewSet 사용해보기\n",
    "\n",
    "\n",
    "https://www.django-rest-framework.org/api-guide/viewsets/#example\n",
    "\n",
    "https://www.django-rest-framework.org/api-guide/viewsets/#viewset-actions\n",
    "\n",
    "\n",
    "## 목적\n",
    "- 기본적인 ViewSet 을 사용하는 방법을 이해합니다.\n",
    "- ViewSet 에서 HTTP Method 가 어떤 메서드에 바인딩되는지 이해합니다.\n",
    "\n",
    "---"
   ]
  },
  {
   "cell_type": "markdown",
   "metadata": {
    "pycharm": {
     "name": "#%% md\n"
    }
   },
   "source": [
    "## 문제\n",
    "\n",
    "위 링크를 을 참고하여\n",
    "\n",
    "1. 생성(`POST`), 수정(`PATCH`), 삭제(`DELETE`) API 를 사용가능하도록 하게 해주세요.\n",
    "\n",
    "\n",
    "### 조건\n",
    "- `viewsets.ViewSet` 을 상속받아 View 를 작성해주세요."
   ]
  },
  {
   "cell_type": "code",
   "execution_count": 1,
   "metadata": {},
   "outputs": [],
   "source": [
    "from django.contrib.auth import get_user_model\n",
    "from rest_framework import viewsets, serializers, mixins\n",
    "\n",
    "User = get_user_model()\n",
    "\n",
    "\n",
    "# 지금은 몰라도 됩니다!\n",
    "class UserSerializer(serializers.ModelSerializer):\n",
    "    class Meta:\n",
    "        model = User\n",
    "        fields = \"__all__\"\n",
    "\n",
    "        \n",
    "# 이 부분을 완성해주세요!\n",
    "class UserViewSet:\n",
    "    pass"
   ]
  },
  {
   "cell_type": "code",
   "execution_count": 2,
   "metadata": {
    "pycharm": {
     "name": "#%%\n"
    },
    "scrolled": true
   },
   "outputs": [
    {
     "name": "stdout",
     "output_type": "stream",
     "text": [
      "테스트에 성공하였습니다! 다음 블럭으로 넘어가주세요.\n"
     ]
    }
   ],
   "source": [
    "# 잘 작성되었는지 검증하는 코드입니다.\n",
    "from django.db import transaction\n",
    "from rest_framework.routers import SimpleRouter\n",
    "\n",
    "from utils import enc, dec, get_actions_from_router, AtomicRollback\n",
    "\n",
    "\n",
    "with AtomicRollback():\n",
    "    allow_methods = dec(b'eyJwb3N0IjogWyJjcmVhdGUiXSwgInBhdGNoIjogWyJwYXJ0aWFsX3VwZGF0ZSJdLCAiZGVsZXRlIjogWyJkZXN0cm95Il19')\n",
    "    router = SimpleRouter()\n",
    "    router.register('users', UserViewSet)\n",
    "    \n",
    "    group_by_methods, _ = get_actions_from_router(router)\n",
    "    result_methods = allow_methods.copy()\n",
    "    \n",
    "    for method in group_by_methods:\n",
    "        if method in result_methods:\n",
    "            del result_methods[method]\n",
    "\n",
    "    assert not result_methods, f'{\", \".join([value for key, values in result_methods.items() for value in values])} 이(가) 구현되지 않았습니다.'\n",
    "    print('테스트에 성공하였습니다! 다음 블럭으로 넘어가주세요.')"
   ]
  },
  {
   "cell_type": "markdown",
   "metadata": {
    "pycharm": {
     "name": "#%% md\n"
    }
   },
   "source": [
    "---\n",
    "\n",
    "# Action 확장해보기\n",
    "\n",
    "\n",
    "https://www.django-rest-framework.org/api-guide/viewsets/#marking-extra-actions-for-routing\n",
    "\n",
    "\n",
    "## 목적\n",
    "- ViewSet 에서 action 을 확장하는 법을 이해합니다.\n",
    "\n",
    "---"
   ]
  },
  {
   "cell_type": "markdown",
   "metadata": {
    "pycharm": {
     "name": "#%% md\n"
    }
   },
   "source": [
    "## 문제\n",
    "\n",
    "위 링크 을 참고하여\n",
    "\n",
    "`POST /users/<int:pk>/set_staff` 형태가 되도록 ViewSet 를 작성해주세요.\n",
    "\n",
    "```\n",
    "POST /users/<int:pk>/set_staff\n",
    "\n",
    "STATUS 200\n",
    "BODY\n",
    "```\n",
    "\n",
    "1. 이 API 는 `<int:pk>` 유저의 `is_staff` 속성을 True 로 바꾸는 동작을 합니다.\n",
    "2. Response 는 status_code = 200 만 내려주면 됩니다.\n",
    "\n",
    "\n",
    "### 조건\n",
    "\n",
    "- `viewsets.ViewSet` 을 상속받아 View 를 작성해주세요.\n",
    "- `pk` 에 맞는 유저가 존재하지 않을 시 않을 시 `404` 응답을 해주어야합니다. ( `rest_framework.generics.get_object_or_404` 를 사용하거나 참고해주세요. )"
   ]
  },
  {
   "cell_type": "code",
   "execution_count": 5,
   "metadata": {
    "pycharm": {
     "name": "#%%\n"
    }
   },
   "outputs": [],
   "source": [
    "from django.contrib.auth import get_user_model\n",
    "from rest_framework import viewsets, serializers, mixins\n",
    "from rest_framework.response import Response\n",
    "from rest_framework.decorators import action\n",
    "from rest_framework.generics import get_object_or_404\n",
    "\n",
    "User = get_user_model()\n",
    "\n",
    "\n",
    "# 지금은 몰라도 됩니다!\n",
    "class UserSerializer(serializers.ModelSerializer):\n",
    "    class Meta:\n",
    "        model = User\n",
    "        fields = \"__all__\"\n",
    "\n",
    "        \n",
    "# 이 부분을 완성해주세요!\n",
    "# 이 부분을 완성해주세요!\n",
    "class UserViewSet:\n",
    "    pass"
   ]
  },
  {
   "cell_type": "code",
   "execution_count": 4,
   "metadata": {
    "scrolled": true
   },
   "outputs": [
    {
     "name": "stdout",
     "output_type": "stream",
     "text": [
      "테스트에 성공하였습니다! 다음 블럭으로 넘어가주세요.\n"
     ]
    }
   ],
   "source": [
    "# 잘 작성되었는지 검증하는 코드입니다.\n",
    "from django.db import transaction\n",
    "from rest_framework.routers import SimpleRouter\n",
    "from rest_framework.test import APIRequestFactory\n",
    "\n",
    "from model_bakery import baker\n",
    "\n",
    "from utils import enc, dec, get_actions_from_router, AtomicRollback\n",
    "\n",
    "\n",
    "with AtomicRollback():\n",
    "    action_name = dec(b'InNldF9zdGFmZiI=')\n",
    "    allow_method = dec(b'InBvc3Qi')\n",
    "    \n",
    "    router = SimpleRouter()\n",
    "    router.register('users', UserViewSet)\n",
    "    \n",
    "    _, group_by_actions = get_actions_from_router(router)\n",
    "\n",
    "    assert group_by_actions.get(action_name, None), 'set_staff action 이 구현되지 않았습니다.'\n",
    "    assert allow_method in group_by_actions.get(action_name, []), f'set_staff action 는 POST Method 를 허용해야합니다. 현재 set_staff action 은 {\", \".join(group_by_actions.get(action_name, []))} 을 허용중입니다.'\n",
    "    \n",
    "    factory = APIRequestFactory()\n",
    "    view = UserViewSet.as_view(actions={allow_method: action_name})\n",
    "    user = baker.make(User, is_staff=False)\n",
    "    response = view(factory.post(''), pk=user.pk)\n",
    "\n",
    "    assert response.status_code == 200, f'{allow_method} API 호출 결과의 status_code 가 일치하지 않습니다: 현재: {response.status_code}'\n",
    "    user.refresh_from_db()\n",
    "    assert user.is_staff, f'{allow_method} API 호출 결과 유저의 is_staff 속성이 True 로 설정되지 않았습니다.'\n",
    "    \n",
    "    print('테스트에 성공하였습니다! 다음 블럭으로 넘어가주세요.')"
   ]
  },
  {
   "cell_type": "markdown",
   "metadata": {},
   "source": [
    "---\n",
    "\n",
    "# 하나의 Custom Action URL 에 여러 HTTP Method 허용하기\n",
    "\n",
    "\n",
    "https://www.django-rest-framework.org/api-guide/viewsets/#routing-additional-http-methods-for-extra-actions\n",
    "\n",
    "\n",
    "## 목적\n",
    "- ViewSet 에서 하나의 Custom Action 을 가지고 여러가지 HTTP Method 를 붙이는 방법을 이해합니다.\n",
    "\n",
    "### 조건\n",
    "\n",
    "- `viewsets.ViewSet` 을 상속받아 View 를 작성해주세요.\n",
    "- `pk` 에 맞는 유저가 존재하지 않을 시 않을 시 `404` 응답을 해주어야합니다. ( `rest_framework.generics.get_object_or_404` 를 사용하거나 참고해주세요. )\n",
    "\n",
    "---"
   ]
  },
  {
   "cell_type": "markdown",
   "metadata": {},
   "source": [
    "## 문제 1\n",
    "\n",
    "아래 두 API 를 구현해야합니다.\n",
    "우선 문서를 보지 않고 하나의 Custom Action 을 만들어 GET, DELETE 두 동작이 정상 작동하도록 View 를 작성해주세요.\n",
    "\n",
    "- `GET /users/<int:pk>/email` : 유저의 이메일만 가져오는 API\n",
    "\n",
    "```\n",
    "GET /users/<int:pk>/email\n",
    "\n",
    "STATUS 200\n",
    "BODY\n",
    "\n",
    "{\n",
    "    'admin@ashe.kr'\n",
    "}\n",
    "```\n",
    "\n",
    "\n",
    "- `DELETE /users/<int:pk>/email` : 유저의 이메일을 삭제하는 API\n",
    "\n",
    "```\n",
    "DELETE /users/<int:pk>/email\n",
    "\n",
    "STATUS 204\n",
    "BODY\n",
    "\n",
    "```"
   ]
  },
  {
   "cell_type": "code",
   "execution_count": 6,
   "metadata": {
    "pycharm": {
     "name": "#%%\n"
    }
   },
   "outputs": [],
   "source": [
    "from django.contrib.auth import get_user_model\n",
    "from rest_framework import viewsets, serializers, mixins\n",
    "from rest_framework.response import Response\n",
    "from rest_framework.decorators import action\n",
    "from rest_framework.generics import get_object_or_404\n",
    "\n",
    "User = get_user_model()\n",
    "\n",
    "\n",
    "# 지금은 몰라도 됩니다!\n",
    "class UserSerializer(serializers.ModelSerializer):\n",
    "    class Meta:\n",
    "        model = User\n",
    "        fields = \"__all__\"\n",
    "\n",
    "        \n",
    "# 이 부분을 완성해주세요!\n",
    "class UserViewSet:\n",
    "    pass"
   ]
  },
  {
   "cell_type": "code",
   "execution_count": 7,
   "metadata": {
    "pycharm": {
     "name": "#%%\n"
    }
   },
   "outputs": [
    {
     "name": "stdout",
     "output_type": "stream",
     "text": [
      "테스트에 성공하였습니다! 다음 블럭으로 넘어가주세요.\n"
     ]
    }
   ],
   "source": [
    "# 잘 작성되었는지 검증하는 코드입니다.\n",
    "from django.db import transaction\n",
    "from rest_framework.routers import SimpleRouter\n",
    "from rest_framework.test import APIRequestFactory\n",
    "\n",
    "from model_bakery import baker\n",
    "\n",
    "from utils import enc, dec, get_actions_from_router, AtomicRollback\n",
    "\n",
    "\n",
    "with AtomicRollback():\n",
    "    action_name = dec(b'ImVtYWlsIg==')\n",
    "    allow_method = dec(b'WyJnZXQiLCAiZGVsZXRlIl0=')\n",
    "    \n",
    "    router = SimpleRouter()\n",
    "    router.register('users', UserViewSet)\n",
    "    \n",
    "    group_by_methods, group_by_actions = get_actions_from_router(router)\n",
    "\n",
    "    assert group_by_actions.get(action_name, None), 'email action 이 구현되지 않았습니다.'\n",
    "    assert allow_method == group_by_actions.get(action_name, []), f'email action 은 GET, DELETE Method 를 허용해야합니다. 현재 email action 은 {\", \".join(group_by_actions.get(action_name, []))} 을 허용중입니다.'\n",
    "\n",
    "    factory = APIRequestFactory()\n",
    "\n",
    "    view = UserViewSet.as_view(actions={'get': action_name})\n",
    "    user = baker.make(User, email='admin@ashe.kr')\n",
    "    response = view(factory.get(''), pk=user.pk)\n",
    "\n",
    "    assert response.status_code == 200, f'get API 호출 결과의 status_code 가 일치하지 않습니다: 현재: {response.status_code}'\n",
    "    assert response.data == 'admin@ashe.kr', f'get API 호출 결과는 {\"admin@ashe.kr\"} 이 되어야 합니다: 현재: {response.data}'\n",
    "    \n",
    "    view = UserViewSet.as_view(actions={'delete': action_name})\n",
    "    response = view(factory.delete(''), pk=user.pk)\n",
    "    \n",
    "    user.refresh_from_db()\n",
    "    assert response.status_code == 204, f'delete API 호출 결과의 status_code 가 일치하지 않습니다: 현재: {response.status_code}'\n",
    "    assert not user.email, 'delete API 호출 결과 유저의 email 속성이 지워지지 않았습니다.'\n",
    "\n",
    "    print('테스트에 성공하였습니다! 다음 블럭으로 넘어가주세요.')"
   ]
  },
  {
   "cell_type": "markdown",
   "metadata": {},
   "source": [
    "## 문제 2\n",
    "\n",
    "문서를 읽고나서 두개의 Custom Action(email, delete_email) 을 만들어 GET, DELETE 두 동작이 정상 작동하도록 View 를 작성해주세요.\n",
    "\n",
    "- `GET /users/<int:pk>/email` : 유저의 이메일만 가져오는 API\n",
    "\n",
    "```\n",
    "GET /users/<int:pk>/email\n",
    "\n",
    "STATUS 200\n",
    "BODY\n",
    "\n",
    "{\n",
    "    'admin@ashe.kr'\n",
    "}\n",
    "```\n",
    "\n",
    "\n",
    "- `DELETE /users/<int:pk>/email` : 유저의 이메일을 삭제하는 API\n",
    "\n",
    "```\n",
    "DELETE /users/<int:pk>/email\n",
    "\n",
    "STATUS 204\n",
    "BODY\n",
    "\n",
    "```"
   ]
  },
  {
   "cell_type": "code",
   "execution_count": 8,
   "metadata": {
    "pycharm": {
     "name": "#%%\n"
    }
   },
   "outputs": [],
   "source": [
    "from django.contrib.auth import get_user_model\n",
    "from rest_framework import viewsets, serializers, mixins\n",
    "from rest_framework.response import Response\n",
    "from rest_framework.decorators import action\n",
    "from rest_framework.generics import get_object_or_404\n",
    "\n",
    "User = get_user_model()\n",
    "\n",
    "\n",
    "# 지금은 몰라도 됩니다!\n",
    "class UserSerializer(serializers.ModelSerializer):\n",
    "    class Meta:\n",
    "        model = User\n",
    "        fields = \"__all__\"\n",
    "\n",
    "        \n",
    "# 이 부분을 완성해주세요!\n",
    "class UserViewSet:\n",
    "    pass"
   ]
  },
  {
   "cell_type": "code",
   "execution_count": 9,
   "metadata": {
    "pycharm": {
     "name": "#%%\n"
    }
   },
   "outputs": [
    {
     "name": "stdout",
     "output_type": "stream",
     "text": [
      "테스트에 성공하였습니다! 다음 블럭으로 넘어가주세요.\n"
     ]
    }
   ],
   "source": [
    "# 잘 작성되었는지 검증하는 코드입니다.\n",
    "from django.db import transaction\n",
    "from rest_framework.routers import SimpleRouter\n",
    "from rest_framework.test import APIRequestFactory\n",
    "\n",
    "from model_bakery import baker\n",
    "\n",
    "from utils import enc, dec, get_actions_from_router, AtomicRollback\n",
    "\n",
    "\n",
    "with AtomicRollback():\n",
    "    router = SimpleRouter()\n",
    "    router.register('users', UserViewSet)\n",
    "    \n",
    "    group_by_methods, group_by_actions = get_actions_from_router(router)\n",
    "\n",
    "    action_name = 'email'\n",
    "    allow_method = ['get']\n",
    "    assert group_by_actions.get(action_name, None), 'email action 이 구현되지 않았습니다.'\n",
    "    assert allow_method == group_by_actions.get(action_name, []), f'email action 은 GET Method 를 허용해야합니다. 현재 email action 은 {\", \".join(group_by_actions.get(action_name, []))} 을 허용중입니다.'\n",
    "    \n",
    "    factory = APIRequestFactory()\n",
    "    user = baker.make(User, email='admin@ashe.kr')\n",
    "\n",
    "    view = UserViewSet.as_view(actions={'get': 'email'})\n",
    "    response = view(factory.get(''), pk=user.pk)\n",
    "\n",
    "    assert response.status_code == 200, f'get API 호출 결과의 status_code 가 일치하지 않습니다: 현재: {response.status_code}'\n",
    "    assert response.data == 'admin@ashe.kr', f'get API 호출 결과는 {\"admin@ashe.kr\"} 이 되어야 합니다: 현재: {response.data}'\n",
    "    \n",
    "    action_name = 'delete_email'\n",
    "    allow_method = ['delete']\n",
    "    assert group_by_actions.get(action_name, None), 'delete_email action 이 구현되지 않았습니다.'\n",
    "    assert allow_method == group_by_actions.get(action_name, []), f'delete_email action 은 DELETE Method 를 허용해야합니다. 현재 email action 은 {\", \".join(group_by_actions.get(action_name, []))} 을 허용중입니다.'\n",
    "    \n",
    "    view = UserViewSet.as_view(actions={'delete': 'delete_email'})\n",
    "    response = view(factory.delete(''), pk=user.pk)\n",
    "    \n",
    "    user.refresh_from_db()\n",
    "    assert response.status_code == 204, f'delete API 호출 결과의 status_code 가 일치하지 않습니다: 현재: {response.status_code}'\n",
    "    assert not user.email, 'delete API 호출 결과 유저의 email 속성이 지워지지 않았습니다.'\n",
    "\n",
    "    print('테스트에 성공하였습니다! 다음 블럭으로 넘어가주세요.')"
   ]
  },
  {
   "cell_type": "markdown",
   "metadata": {},
   "source": [
    "---\n",
    "\n",
    "# 다양한 ViewSet 사용해보기\n",
    "\n",
    "- https://www.django-rest-framework.org/api-guide/viewsets/#modelviewset\n",
    "\n",
    "- https://www.django-rest-framework.org/api-guide/viewsets/#custom-viewset-base-classes\n",
    "\n",
    "\n",
    "## 목적\n",
    "\n",
    "- ViewSet 을 상속하는 다양한 ViewSet 들에 대해 이해하고 넘어갑니다.\n",
    "\n",
    "---"
   ]
  },
  {
   "cell_type": "markdown",
   "metadata": {},
   "source": [
    "## 문제 1\n",
    "\n",
    "위 링크를 을 참고하여\n",
    "\n",
    "1. GenericViewSet 하나만 상속받고 `get_queryset`, `get_object` 를 사용하여 목록(GET), 상세(GET), 삭제(DELETE) API 를 사용가능하도록 하게 해주세요."
   ]
  },
  {
   "cell_type": "code",
   "execution_count": 12,
   "metadata": {
    "pycharm": {
     "name": "#%%\n"
    }
   },
   "outputs": [],
   "source": [
    "from django.contrib.auth import get_user_model\n",
    "from rest_framework import viewsets, serializers, mixins\n",
    "from rest_framework.response import Response\n",
    "from rest_framework.decorators import action\n",
    "from rest_framework.generics import get_object_or_404\n",
    "\n",
    "User = get_user_model()\n",
    "\n",
    "\n",
    "# 지금은 몰라도 됩니다!\n",
    "class UserSerializer(serializers.ModelSerializer):\n",
    "    class Meta:\n",
    "        model = User\n",
    "        fields = \"__all__\"\n",
    "\n",
    "\n",
    "# 이 부분을 완성해주세요!\n",
    "class UserViewSet:\n",
    "    pass"
   ]
  },
  {
   "cell_type": "code",
   "execution_count": 11,
   "metadata": {
    "pycharm": {
     "name": "#%%\n"
    }
   },
   "outputs": [
    {
     "name": "stdout",
     "output_type": "stream",
     "text": [
      "테스트에 성공하였습니다! 다음 블럭으로 넘어가주세요.\n"
     ]
    }
   ],
   "source": [
    "# 잘 작성되었는지 검증하는 코드입니다.\n",
    "from django.db import transaction\n",
    "from rest_framework.routers import SimpleRouter\n",
    "from rest_framework.test import APIRequestFactory\n",
    "from rest_framework.utils.serializer_helpers import ReturnList\n",
    "\n",
    "from model_bakery import baker\n",
    "\n",
    "from utils import enc, dec, get_actions_from_router, AtomicRollback\n",
    "\n",
    "\n",
    "with AtomicRollback():\n",
    "    allow_methods = {'get': ['list', 'retrieve'], 'delete': ['destroy']}\n",
    "    \n",
    "    router = SimpleRouter()\n",
    "    router.register('users', UserViewSet)\n",
    "    \n",
    "    group_by_methods, _ = get_actions_from_router(router)\n",
    "    result_methods = allow_methods.copy()\n",
    "    \n",
    "    for method in group_by_methods:\n",
    "        if method in result_methods:\n",
    "            del result_methods[method]\n",
    "\n",
    "    assert not result_methods, f'{\", \".join([value for key, values in result_methods.items() for value in values])} 이(가) 구현되지 않았습니다.'\n",
    "            \n",
    "    # Method 체크\n",
    "    \n",
    "    factory = APIRequestFactory()\n",
    "    user = baker.make(User, email='admin@ashe.kr')\n",
    "    \n",
    "    # List\n",
    "    view = UserViewSet.as_view(actions={'get': 'list'})\n",
    "    response = view(factory.get(''))\n",
    "\n",
    "    assert response.status_code == 200, f'list API 호출 결과의 status_code 가 일치하지 않습니다: 현재: {response.status_code}'\n",
    "    assert type(response.data) == ReturnList, f'list API 의 호출결과가 list 타입이 아닙니다: 현재 {type(response.data)}'\n",
    "    assert {data.get('email'): data for data in response.data}.get('admin@ashe.kr'), f'list API 의 호출 결과에서 테스트 데이터를 찾을 수 없습니다.'\n",
    "    \n",
    "    # Retrieve\n",
    "    view = UserViewSet.as_view(actions={'get': 'retrieve'})\n",
    "    response = view(factory.get(''), pk=user.pk)\n",
    "\n",
    "    assert response.status_code == 200, f'retrieve API 호출 결과의 status_code 가 일치하지 않습니다: 현재: {response.status_code}'\n",
    "    \n",
    "    # Delete\n",
    "    view = UserViewSet.as_view(actions={'delete': 'destroy'})\n",
    "    response = view(factory.delete(''), pk=user.pk)\n",
    "\n",
    "    assert response.status_code == 204, f'destroy API 호출 결과의 status_code 가 일치하지 않습니다: 현재: {response.status_code}'\n",
    "    assert not User.objects.filter(pk=user.pk).first(), f'destroy API 호출 결과로 User 가 삭제되지 않았습니다.'\n",
    "\n",
    "    print('테스트에 성공하였습니다! 다음 블럭으로 넘어가주세요.')"
   ]
  },
  {
   "cell_type": "markdown",
   "metadata": {},
   "source": [
    "## 문제 2\n",
    "\n",
    "위 링크를 을 참고하여\n",
    "\n",
    "2. ModelViewSet 을 상속받아 목록(GET), 생성(POST), 상세(GET), 수정(PUT), 수정(PATCH), 삭제(DELETE) API 를 사용가능하도록 하게 해주세요."
   ]
  },
  {
   "cell_type": "code",
   "execution_count": 13,
   "metadata": {
    "pycharm": {
     "name": "#%%\n"
    }
   },
   "outputs": [],
   "source": [
    "from django.contrib.auth import get_user_model\n",
    "from rest_framework import viewsets, serializers, mixins\n",
    "from rest_framework.response import Response\n",
    "from rest_framework.decorators import action\n",
    "from rest_framework.generics import get_object_or_404\n",
    "\n",
    "User = get_user_model()\n",
    "\n",
    "\n",
    "# 지금은 몰라도 됩니다!\n",
    "class UserSerializer(serializers.ModelSerializer):\n",
    "    class Meta:\n",
    "        model = User\n",
    "        fields = \"__all__\"\n",
    "\n",
    "\n",
    "# 이 부분을 완성해주세요!\n",
    "class UserViewSet:\n",
    "    pass"
   ]
  },
  {
   "cell_type": "code",
   "execution_count": 14,
   "metadata": {
    "pycharm": {
     "name": "#%%\n"
    }
   },
   "outputs": [
    {
     "name": "stdout",
     "output_type": "stream",
     "text": [
      "테스트에 성공하였습니다! 다음 블럭으로 넘어가주세요.\n"
     ]
    }
   ],
   "source": [
    "# 잘 작성되었는지 검증하는 코드입니다.\n",
    "from django.db import transaction\n",
    "from rest_framework.routers import SimpleRouter\n",
    "from rest_framework.test import APIRequestFactory\n",
    "from rest_framework.utils.serializer_helpers import ReturnList\n",
    "\n",
    "from model_bakery import baker\n",
    "\n",
    "from utils import enc, dec, get_actions_from_router, AtomicRollback\n",
    "\n",
    "\n",
    "with AtomicRollback():\n",
    "    allow_methods = dec(b'eyJnZXQiOiBbImxpc3QiLCAicmV0cmlldmUiXSwgInBvc3QiOiBbImNyZWF0ZSJdLCAicHV0IjogWyJ1cGRhdGUiXSwgInBhdGNoIjogWyJwYXJ0aWFsX3VwZGF0ZSJdLCAiZGVsZXRlIjogWyJkZXN0cm95Il19')\n",
    "    \n",
    "    router = SimpleRouter()\n",
    "    router.register('users', UserViewSet)\n",
    "    \n",
    "    group_by_methods, _ = get_actions_from_router(router)\n",
    "    result_methods = allow_methods.copy()\n",
    "    \n",
    "    for method in group_by_methods:\n",
    "        if method in result_methods:\n",
    "            del result_methods[method]\n",
    "\n",
    "    assert not result_methods, f'{\", \".join([value for key, values in result_methods.items() for value in values])} 이(가) 구현되지 않았습니다.'\n",
    "            \n",
    "\n",
    "    # Method 체크\n",
    "    \n",
    "    factory = APIRequestFactory()\n",
    "    user = baker.make(User, email='admin@ashe.kr')\n",
    "    \n",
    "    # List\n",
    "    view = UserViewSet.as_view(actions={'get': 'list'})\n",
    "    response = view(factory.get(''))\n",
    "\n",
    "    assert response.status_code == 200, f'list API 호출 결과의 status_code 가 일치하지 않습니다: 현재: {response.status_code}'\n",
    "    assert type(response.data) == ReturnList, f'list API 의 호출결과가 list 타입이 아닙니다: 현재 {type(response.data)}'\n",
    "    assert {data.get('email'): data for data in response.data}.get('admin@ashe.kr'), f'list API 의 호출 결과에서 테스트 데이터를 찾을 수 없습니다.'\n",
    "    \n",
    "    # Retrieve\n",
    "    view = UserViewSet.as_view(actions={'get': 'retrieve'})\n",
    "    response = view(factory.get(''), pk=user.pk)\n",
    "\n",
    "    assert response.status_code == 200, f'retrieve API 호출 결과의 status_code 가 일치하지 않습니다: 현재: {response.status_code}'\n",
    "    \n",
    "    # Create\n",
    "    view = UserViewSet.as_view(actions={'post': 'create'})\n",
    "    request_data = UserSerializer(baker.prepare(User, email='second@ashe.kr')).data\n",
    "    response = view(factory.post('', request_data, format='json'))\n",
    "\n",
    "    assert response.status_code == 201, f'create API 호출 결과의 status_code 가 일치하지 않습니다: 현재: {response.status_code}'\n",
    "    assert User.objects.filter(email='second@ashe.kr').first(), 'create API 호출 결과로 User 가 생성되지 않았습니다.'\n",
    "    \n",
    "    # Update\n",
    "    view = UserViewSet.as_view(actions={'put': 'update'})\n",
    "    user.refresh_from_db()\n",
    "    request_data = UserSerializer(user).data\n",
    "    request_data['email'] = 'third@ashe.kr'\n",
    "    response = view(factory.put('', request_data, format='json'), pk=user.pk)\n",
    "\n",
    "    assert response.status_code == 200, f'update API 호출 결과의 status_code 가 일치하지 않습니다: 현재: {response.status_code}'\n",
    "    user.refresh_from_db()\n",
    "    assert user.email == 'third@ashe.kr', 'update API 호출 결과로 email 이 업데이트 되지 않았습니다.'\n",
    "    \n",
    "    # Partial-Update\n",
    "    view = UserViewSet.as_view(actions={'patch': 'partial_update'})\n",
    "    user.refresh_from_db()\n",
    "    request_data = UserSerializer(user).data\n",
    "    request_data['email'] = 'forth@ashe.kr'\n",
    "    response = view(factory.patch('', request_data, format='json'), pk=user.pk)\n",
    "\n",
    "    assert response.status_code == 200, f'partial_update API 호출 결과의 status_code 가 일치하지 않습니다: 현재: {response.status_code}'\n",
    "    user.refresh_from_db()\n",
    "    assert user.email == 'forth@ashe.kr', 'partial_update API 호출 결과로 email 이 업데이트 되지 않았습니다.'\n",
    "    \n",
    "    # Delete\n",
    "    view = UserViewSet.as_view(actions={'delete': 'destroy'})\n",
    "    response = view(factory.delete(''), pk=user.pk)\n",
    "\n",
    "    assert response.status_code == 204, f'destroy API 호출 결과의 status_code 가 일치하지 않습니다: 현재: {response.status_code}'\n",
    "    assert not User.objects.filter(pk=user.pk).first(), f'destroy API 호출 결과로 User 가 삭제되지 않았습니다.'\n",
    "\n",
    "    print('테스트에 성공하였습니다! 다음 블럭으로 넘어가주세요.')"
   ]
  },
  {
   "cell_type": "markdown",
   "metadata": {},
   "source": [
    "## 문제 3\n",
    "\n",
    "3. GenericViewSet 을 상속받고 `mixins` 를 통해 목록(GET), 생성(CREATE) 만 가능하도록 하게 해주세요."
   ]
  },
  {
   "cell_type": "code",
   "execution_count": 19,
   "metadata": {
    "pycharm": {
     "name": "#%%\n"
    }
   },
   "outputs": [],
   "source": [
    "from django.contrib.auth import get_user_model\n",
    "from rest_framework import viewsets, serializers, mixins\n",
    "from rest_framework.response import Response\n",
    "from rest_framework.decorators import action\n",
    "from rest_framework.generics import get_object_or_404\n",
    "\n",
    "User = get_user_model()\n",
    "\n",
    "\n",
    "# 지금은 몰라도 됩니다!\n",
    "class UserSerializer(serializers.ModelSerializer):\n",
    "    class Meta:\n",
    "        model = User\n",
    "        fields = \"__all__\"\n",
    "\n",
    "\n",
    "# 이 부분을 완성해주세요!\n",
    "class UserViewSet:\n",
    "    pass"
   ]
  },
  {
   "cell_type": "code",
   "execution_count": 18,
   "metadata": {
    "pycharm": {
     "name": "#%%\n"
    }
   },
   "outputs": [
    {
     "name": "stdout",
     "output_type": "stream",
     "text": [
      "테스트에 성공하였습니다! 다음 블럭으로 넘어가주세요.\n"
     ]
    }
   ],
   "source": [
    "# 잘 작성되었는지 검증하는 코드입니다.\n",
    "from django.db import transaction\n",
    "from rest_framework.routers import SimpleRouter\n",
    "from rest_framework.test import APIRequestFactory\n",
    "from rest_framework.utils.serializer_helpers import ReturnList\n",
    "\n",
    "from model_bakery import baker\n",
    "\n",
    "from utils import enc, dec, get_actions_from_router, AtomicRollback\n",
    "\n",
    "\n",
    "with AtomicRollback():\n",
    "    allow_methods = {'get': ['list', 'retrieve'], 'post': ['create']}\n",
    "    \n",
    "    router = SimpleRouter()\n",
    "    router.register('users', UserViewSet)\n",
    "    \n",
    "    group_by_methods, _ = get_actions_from_router(router)\n",
    "    result_methods = allow_methods.copy()\n",
    "    \n",
    "    for method in group_by_methods:\n",
    "        if method in result_methods:\n",
    "            del result_methods[method]\n",
    "\n",
    "    assert not result_methods, f'{\", \".join([value for key, values in result_methods.items() for value in values])} 이(가) 구현되지 않았습니다.'\n",
    "            \n",
    "\n",
    "    # Method 체크\n",
    "    \n",
    "    factory = APIRequestFactory()\n",
    "    user = baker.make(User, email='admin@ashe.kr')\n",
    "    \n",
    "    # List\n",
    "    view = UserViewSet.as_view(actions={'get': 'list'})\n",
    "    response = view(factory.get(''))\n",
    "\n",
    "    assert response.status_code == 200, f'list API 호출 결과의 status_code 가 일치하지 않습니다: 현재: {response.status_code}'\n",
    "    assert type(response.data) == ReturnList, f'list API 의 호출결과가 list 타입이 아닙니다: 현재 {type(response.data)}'\n",
    "    assert {data.get('email'): data for data in response.data}.get('admin@ashe.kr'), f'list API 의 호출 결과에서 테스트 데이터를 찾을 수 없습니다.'\n",
    "    \n",
    "    # Create\n",
    "    view = UserViewSet.as_view(actions={'post': 'create'})\n",
    "    request_data = UserSerializer(baker.prepare(User, email='second@ashe.kr')).data\n",
    "    response = view(factory.post('', request_data, format='json'))\n",
    "\n",
    "    assert response.status_code == 201, f'create API 호출 결과의 status_code 가 일치하지 않습니다: 현재: {response.status_code}'\n",
    "    assert User.objects.filter(email='second@ashe.kr').first(), 'create API 호출 결과로 User 가 생성되지 않았습니다.'\n",
    "\n",
    "    print('테스트에 성공하였습니다! 다음 블럭으로 넘어가주세요.')"
   ]
  },
  {
   "cell_type": "markdown",
   "metadata": {},
   "source": [
    "# --- 끝 ---"
   ]
  }
 ],
 "metadata": {
  "kernelspec": {
   "display_name": "Django Shell-Plus",
   "language": "python",
   "name": "django_extensions"
  },
  "language_info": {
   "codemirror_mode": {
    "name": "ipython",
    "version": 3
   },
   "file_extension": ".py",
   "mimetype": "text/x-python",
   "name": "python",
   "nbconvert_exporter": "python",
   "pygments_lexer": "ipython3",
   "version": "3.8.2"
  }
 },
 "nbformat": 4,
 "nbformat_minor": 4
}
