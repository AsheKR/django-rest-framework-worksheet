{
 "cells": [
  {
   "cell_type": "markdown",
   "metadata": {},
   "source": [
    "# ViewSet\n",
    "\n",
    "## View\n",
    "\n",
    "요청을 적절하게 해석하고, Response 를 리턴하기 위해 논리적인 로직을 구현하는 곳\n",
    "\n",
    "## ViewSet\n",
    "\n",
    "비슷한 구조를 가진 뷰를 한 곳에서 사용할 수 있도록 해주는 추상 클래스\n",
    "\n",
    "예를 들어 아래와 같은 API 를 만들어야 한다면 `ViewSet` 하나를 사용하여 여러 `View` 를 사용하지 않고 작성할 수 있습니다.\n",
    "\n",
    "```\n",
    "GET /api/users/\n",
    "POST /api/users/\n",
    "GET /api/users/<int:id>/\n",
    "POST /api/users/<int:id>/set_staff\n",
    "```\n",
    "\n",
    "### 특징 ( View 와 다른 점 )\n",
    "\n",
    "- **반복된 논리를 중복하지 않고 일관된 형태로 작성이 가능**\n",
    "- 일반적인 패턴을 추상화했기 때문에 빠르게 API 작성 가능\n",
    "- HTTP Method 를 사용하지 않음 ( get -> list, post -> create )\n",
    "- CRDU 이외의 동작을 담을 수 있음\n",
    "- URL 연결을 자동화할 수 있음\n",
    "\n",
    "**지금은 특징들을 잘 모르더라도**\n",
    "\n",
    "**문서를 보고 다른 것과 어떻게 다른지,**\n",
    "\n",
    "**다른 방법으로 구현해보며 각각의 특징들을 익혀갑니다.**"
   ]
  },
  {
   "cell_type": "markdown",
   "metadata": {},
   "source": [
    "---\n",
    "\n",
    "# ViewSet 사용해보기\n",
    "\n",
    "\n",
    "https://www.django-rest-framework.org/api-guide/viewsets/#example\n",
    "\n",
    "https://www.django-rest-framework.org/api-guide/viewsets/#viewset-actions\n",
    "\n",
    "\n",
    "## 목적\n",
    "- 기본적인 ViewSet 을 사용하는 방법을 이해합니다.\n",
    "- ViewSet 에서 HTTP Method 가 어떤 메서드에 바인딩되는지 이해합니다.\n",
    "\n",
    "---"
   ]
  },
  {
   "cell_type": "markdown",
   "metadata": {
    "pycharm": {
     "name": "#%% md\n"
    }
   },
   "source": [
    "## 문제\n",
    "\n",
    "위 링크를 을 참고하여\n",
    "\n",
    "1. 생성(`POST`), 수정(`PATCH`), 삭제(`DELETE`) API 를 사용가능하도록 하게 해주세요.\n",
    "\n",
    "\n",
    "### 조건\n",
    "- `viewsets.ViewSet` 을 상속받아 View 를 작성해주세요."
   ]
  },
  {
   "cell_type": "code",
   "execution_count": null,
   "metadata": {},
   "outputs": [],
   "source": [
    "from django.contrib.auth import get_user_model\n",
    "from rest_framework import serializers\n",
    "\n",
    "User = get_user_model()\n",
    "\n",
    "\n",
    "# 지금은 몰라도 됩니다!\n",
    "class UserSerializer(serializers.ModelSerializer):\n",
    "    class Meta:\n",
    "        model = User\n",
    "        fields = \"__all__\"\n",
    "\n",
    "        \n",
    "# 이 부분을 완성해주세요!\n",
    "class UserViewSet:\n",
    "    pass"
   ]
  },
  {
   "cell_type": "code",
   "execution_count": null,
   "metadata": {
    "pycharm": {
     "name": "#%%\n"
    },
    "scrolled": true
   },
   "outputs": [],
   "source": [
    "from solves.tutorial.model_view_set import solve1\n",
    "\n",
    "# 잘 작성되었는지 검증하는 코드입니다.\n",
    "solve1(UserViewSet)"
   ]
  },
  {
   "cell_type": "markdown",
   "metadata": {
    "pycharm": {
     "name": "#%% md\n"
    }
   },
   "source": [
    "---\n",
    "\n",
    "# Action 확장해보기\n",
    "\n",
    "\n",
    "https://www.django-rest-framework.org/api-guide/viewsets/#marking-extra-actions-for-routing\n",
    "\n",
    "\n",
    "## 목적\n",
    "- ViewSet 에서 action 을 확장하는 법을 이해합니다.\n",
    "\n",
    "---"
   ]
  },
  {
   "cell_type": "markdown",
   "metadata": {
    "pycharm": {
     "name": "#%% md\n"
    }
   },
   "source": [
    "## 문제\n",
    "\n",
    "위 링크 을 참고하여\n",
    "\n",
    "`POST /users/<int:pk>/set_staff` 형태가 되도록 ViewSet 를 작성해주세요.\n",
    "\n",
    "```\n",
    "POST /users/<int:pk>/set_staff\n",
    "\n",
    "STATUS 200\n",
    "BODY\n",
    "```\n",
    "\n",
    "1. 이 API 는 `<int:pk>` 유저의 `is_staff` 속성을 True 로 바꾸는 동작을 합니다.\n",
    "2. Response 는 status_code = 200 만 내려주면 됩니다.\n",
    "\n",
    "\n",
    "### 조건\n",
    "\n",
    "- `viewsets.ViewSet` 을 상속받아 View 를 작성해주세요.\n",
    "- `pk` 에 맞는 유저가 존재하지 않을 시 않을 시 `404` 응답을 해주어야합니다. ( `rest_framework.generics.get_object_or_404` 를 사용하거나 참고해주세요. )"
   ]
  },
  {
   "cell_type": "code",
   "execution_count": null,
   "metadata": {
    "pycharm": {
     "name": "#%%\n"
    }
   },
   "outputs": [],
   "source": [
    "from django.contrib.auth import get_user_model\n",
    "from rest_framework import serializers\n",
    "\n",
    "User = get_user_model()\n",
    "\n",
    "\n",
    "# 지금은 몰라도 됩니다!\n",
    "class UserSerializer(serializers.ModelSerializer):\n",
    "    class Meta:\n",
    "        model = User\n",
    "        fields = \"__all__\"\n",
    "\n",
    "        \n",
    "# 이 부분을 완성해주세요!\n",
    "class UserViewSet:\n",
    "    pass"
   ]
  },
  {
   "cell_type": "code",
   "execution_count": null,
   "metadata": {
    "scrolled": true
   },
   "outputs": [],
   "source": [
    "from solves.tutorial.model_view_set import solve2\n",
    "\n",
    "# 잘 작성되었는지 검증하는 코드입니다.\n",
    "solve2(UserViewSet)"
   ]
  },
  {
   "cell_type": "markdown",
   "metadata": {},
   "source": [
    "---\n",
    "\n",
    "# 하나의 Custom Action URL 에 여러 HTTP Method 허용하기\n",
    "\n",
    "\n",
    "https://www.django-rest-framework.org/api-guide/viewsets/#routing-additional-http-methods-for-extra-actions\n",
    "\n",
    "\n",
    "## 목적\n",
    "- ViewSet 에서 하나의 Custom Action 을 가지고 여러가지 HTTP Method 를 붙이는 방법을 이해합니다.\n",
    "\n",
    "### 조건\n",
    "\n",
    "- `viewsets.ViewSet` 을 상속받아 View 를 작성해주세요.\n",
    "- `pk` 에 맞는 유저가 존재하지 않을 시 않을 시 `404` 응답을 해주어야합니다. ( `rest_framework.generics.get_object_or_404` 를 사용하거나 참고해주세요. )\n",
    "\n",
    "---"
   ]
  },
  {
   "cell_type": "markdown",
   "metadata": {},
   "source": [
    "## 문제 1\n",
    "\n",
    "아래 두 API 를 구현해야합니다.\n",
    "우선 문서를 보지 않고 하나의 Custom Action 을 만들어 GET, DELETE 두 동작이 정상 작동하도록 View 를 작성해주세요.\n",
    "\n",
    "- `GET /users/<int:pk>/email` : 유저의 이메일만 가져오는 API\n",
    "\n",
    "```\n",
    "GET /users/<int:pk>/email\n",
    "\n",
    "STATUS 200\n",
    "BODY\n",
    "\n",
    "{\n",
    "    'admin@ashe.kr'\n",
    "}\n",
    "```\n",
    "\n",
    "\n",
    "- `DELETE /users/<int:pk>/email` : 유저의 이메일을 삭제하는 API\n",
    "\n",
    "```\n",
    "DELETE /users/<int:pk>/email\n",
    "\n",
    "STATUS 204\n",
    "BODY\n",
    "\n",
    "```"
   ]
  },
  {
   "cell_type": "code",
   "execution_count": null,
   "metadata": {
    "pycharm": {
     "name": "#%%\n"
    }
   },
   "outputs": [],
   "source": [
    "from django.contrib.auth import get_user_model\n",
    "from rest_framework import serializers\n",
    "\n",
    "User = get_user_model()\n",
    "\n",
    "\n",
    "# 지금은 몰라도 됩니다!\n",
    "class UserSerializer(serializers.ModelSerializer):\n",
    "    class Meta:\n",
    "        model = User\n",
    "        fields = \"__all__\"\n",
    "\n",
    "        \n",
    "# 이 부분을 완성해주세요!\n",
    "class UserViewSet:\n",
    "    pass"
   ]
  },
  {
   "cell_type": "code",
   "execution_count": null,
   "metadata": {
    "pycharm": {
     "name": "#%%\n"
    }
   },
   "outputs": [],
   "source": [
    "from solves.tutorial.model_view_set import solve3\n",
    "\n",
    "# 잘 작성되었는지 검증하는 코드입니다.\n",
    "solve3(UserViewSet)"
   ]
  },
  {
   "cell_type": "markdown",
   "metadata": {},
   "source": [
    "## 문제 2\n",
    "\n",
    "문서를 읽고나서 두개의 Custom Action(email, delete_email) 을 만들어 GET, DELETE 두 동작이 정상 작동하도록 View 를 작성해주세요.\n",
    "\n",
    "- `GET /users/<int:pk>/email` : 유저의 이메일만 가져오는 API\n",
    "\n",
    "```\n",
    "GET /users/<int:pk>/email\n",
    "\n",
    "STATUS 200\n",
    "BODY\n",
    "\n",
    "{\n",
    "    'admin@ashe.kr'\n",
    "}\n",
    "```\n",
    "\n",
    "\n",
    "- `DELETE /users/<int:pk>/email` : 유저의 이메일을 삭제하는 API\n",
    "\n",
    "```\n",
    "DELETE /users/<int:pk>/email\n",
    "\n",
    "STATUS 204\n",
    "BODY\n",
    "\n",
    "```"
   ]
  },
  {
   "cell_type": "code",
   "execution_count": null,
   "metadata": {
    "pycharm": {
     "name": "#%%\n"
    }
   },
   "outputs": [],
   "source": [
    "from django.contrib.auth import get_user_model\n",
    "from rest_framework import serializers\n",
    "\n",
    "User = get_user_model()\n",
    "\n",
    "\n",
    "# 지금은 몰라도 됩니다!\n",
    "class UserSerializer(serializers.ModelSerializer):\n",
    "    class Meta:\n",
    "        model = User\n",
    "        fields = \"__all__\"\n",
    "\n",
    "        \n",
    "# 이 부분을 완성해주세요!\n",
    "class UserViewSet:\n",
    "    pass"
   ]
  },
  {
   "cell_type": "code",
   "execution_count": null,
   "metadata": {
    "pycharm": {
     "name": "#%%\n"
    }
   },
   "outputs": [],
   "source": [
    "from solves.tutorial.model_view_set import solve4\n",
    "\n",
    "# 잘 작성되었는지 검증하는 코드입니다.\n",
    "solve4(UserViewSet)\n"
   ]
  },
  {
   "cell_type": "markdown",
   "metadata": {},
   "source": [
    "---\n",
    "\n",
    "# 다양한 ViewSet 사용해보기\n",
    "\n",
    "- https://www.django-rest-framework.org/api-guide/viewsets/#modelviewset\n",
    "\n",
    "- https://www.django-rest-framework.org/api-guide/viewsets/#custom-viewset-base-classes\n",
    "\n",
    "\n",
    "## 목적\n",
    "\n",
    "- ViewSet 을 상속하는 다양한 ViewSet 들에 대해 이해하고 넘어갑니다.\n",
    "\n",
    "---"
   ]
  },
  {
   "cell_type": "markdown",
   "metadata": {},
   "source": [
    "## 문제 1\n",
    "\n",
    "위 링크를 을 참고하여\n",
    "\n",
    "1. GenericViewSet 하나만 상속받고 `get_queryset`, `get_object` 를 사용하여 목록(GET), 상세(GET), 삭제(DELETE) API 를 사용가능하도록 하게 해주세요."
   ]
  },
  {
   "cell_type": "code",
   "execution_count": null,
   "metadata": {
    "pycharm": {
     "name": "#%%\n"
    }
   },
   "outputs": [],
   "source": [
    "from django.contrib.auth import get_user_model\n",
    "from rest_framework import serializers\n",
    "\n",
    "User = get_user_model()\n",
    "\n",
    "\n",
    "# 지금은 몰라도 됩니다!\n",
    "class UserSerializer(serializers.ModelSerializer):\n",
    "    class Meta:\n",
    "        model = User\n",
    "        fields = \"__all__\"\n",
    "\n",
    "\n",
    "# 이 부분을 완성해주세요!\n",
    "class UserViewSet:\n",
    "    pass"
   ]
  },
  {
   "cell_type": "code",
   "execution_count": null,
   "metadata": {
    "pycharm": {
     "name": "#%%\n"
    }
   },
   "outputs": [],
   "source": [
    "from solves.tutorial.model_view_set import solve5\n",
    "\n",
    "# 잘 작성되었는지 검증하는 코드입니다.\n",
    "solve5(UserViewSet)\n"
   ]
  },
  {
   "cell_type": "markdown",
   "metadata": {},
   "source": [
    "## 문제 2\n",
    "\n",
    "위 링크를 을 참고하여\n",
    "\n",
    "2. ModelViewSet 을 상속받아 목록(GET), 생성(POST), 상세(GET), 수정(PUT), 수정(PATCH), 삭제(DELETE) API 를 사용가능하도록 하게 해주세요."
   ]
  },
  {
   "cell_type": "code",
   "execution_count": null,
   "metadata": {
    "pycharm": {
     "name": "#%%\n"
    }
   },
   "outputs": [],
   "source": [
    "from django.contrib.auth import get_user_model\n",
    "from rest_framework import serializers\n",
    "\n",
    "User = get_user_model()\n",
    "\n",
    "\n",
    "# 지금은 몰라도 됩니다!\n",
    "class UserSerializer(serializers.ModelSerializer):\n",
    "    class Meta:\n",
    "        model = User\n",
    "        fields = \"__all__\"\n",
    "\n",
    "\n",
    "# 이 부분을 완성해주세요!\n",
    "class UserViewSet:\n",
    "    pass"
   ]
  },
  {
   "cell_type": "code",
   "execution_count": null,
   "metadata": {
    "pycharm": {
     "name": "#%%\n"
    }
   },
   "outputs": [],
   "source": [
    "from solves.tutorial.model_view_set import solve6\n",
    "\n",
    "# 잘 작성되었는지 검증하는 코드입니다.\n",
    "solve6(UserViewSet, UserSerializer)\n"
   ]
  },
  {
   "cell_type": "markdown",
   "metadata": {},
   "source": [
    "## 문제 3\n",
    "\n",
    "3. GenericViewSet 을 상속받고 `mixins` 를 통해 목록(GET), 생성(CREATE) 만 가능하도록 하게 해주세요."
   ]
  },
  {
   "cell_type": "code",
   "execution_count": null,
   "metadata": {
    "pycharm": {
     "name": "#%%\n"
    }
   },
   "outputs": [],
   "source": [
    "from django.contrib.auth import get_user_model\n",
    "from rest_framework import serializers, viewsets, mixins\n",
    "\n",
    "User = get_user_model()\n",
    "\n",
    "\n",
    "# 지금은 몰라도 됩니다!\n",
    "class UserSerializer(serializers.ModelSerializer):\n",
    "    class Meta:\n",
    "        model = User\n",
    "        fields = \"__all__\"\n",
    "\n",
    "\n",
    "# 이 부분을 완성해주세요!\n",
    "class UserViewSet:\n",
    "    pass"
   ]
  },
  {
   "cell_type": "code",
   "execution_count": null,
   "metadata": {
    "pycharm": {
     "name": "#%%\n"
    }
   },
   "outputs": [],
   "source": [
    "from solves.tutorial.model_view_set import solve7\n",
    "\n",
    "# 잘 작성되었는지 검증하는 코드입니다.\n",
    "solve7(UserViewSet, UserSerializer)\n"
   ]
  },
  {
   "cell_type": "markdown",
   "metadata": {},
   "source": [
    "# --- 끝 ---"
   ]
  }
 ],
 "metadata": {
  "kernelspec": {
   "display_name": "Django Shell-Plus",
   "language": "python",
   "name": "django_extensions"
  },
  "language_info": {
   "codemirror_mode": {
    "name": "ipython",
    "version": 3
   },
   "file_extension": ".py",
   "mimetype": "text/x-python",
   "name": "python",
   "nbconvert_exporter": "python",
   "pygments_lexer": "ipython3",
   "version": "3.8.6"
  }
 },
 "nbformat": 4,
 "nbformat_minor": 4
}
