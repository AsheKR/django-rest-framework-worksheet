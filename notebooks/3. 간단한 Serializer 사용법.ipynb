{
 "cells": [
  {
   "cell_type": "markdown",
   "metadata": {},
   "source": [
    "# Serializer\n",
    "\n",
    "## Serializer, Deserializer\n",
    "\n",
    "복잡한 데이터 구조 또는 객체를 저장 또는 전송 가능한 형태로 변환하는 것\n",
    "저장 또는 전송 가능한 형태의 데이터를 데이터구조 또는 객체로 변환하는 것\n",
    "\n",
    "**다른 컨텐츠 타입 (JSON, XML) 등으로 변경하기 쉽게 도와주는 역할을 함**\n",
    "\n",
    "## 특정\n",
    "\n",
    "- 일관적인 데이터 조작 흐름을 제공\n",
    "- 자동 유효성 검사"
   ]
  },
  {
   "cell_type": "code",
   "execution_count": 2,
   "metadata": {},
   "outputs": [
    {
     "data": {
      "text/plain": [
       "{}"
      ]
     },
     "execution_count": 2,
     "metadata": {},
     "output_type": "execute_result"
    }
   ],
   "source": [
    "# ModelSerializer\n",
    "class User(models.Model):\n",
    "    username = models.CharField()\n",
    "    password = models.CharField()\n",
    "    is_admin = models.BooleanField()  # set-admin 이라는 API 를 통해서만 조절할 수 있음\n",
    "\n",
    "class UserSerializer(serializer.ModelSerializer):\n",
    "    class Meta:\n",
    "        model = User\n",
    "        fields = ['username']"
   ]
  },
  {
   "cell_type": "code",
   "execution_count": null,
   "metadata": {},
   "outputs": [],
   "source": []
  }
 ],
 "metadata": {
  "kernelspec": {
   "display_name": "Django Shell-Plus",
   "language": "python",
   "name": "django_extensions"
  },
  "language_info": {
   "codemirror_mode": {
    "name": "ipython",
    "version": 3
   },
   "file_extension": ".py",
   "mimetype": "text/x-python",
   "name": "python",
   "nbconvert_exporter": "python",
   "pygments_lexer": "ipython3",
   "version": "3.8.2"
  }
 },
 "nbformat": 4,
 "nbformat_minor": 4
}
