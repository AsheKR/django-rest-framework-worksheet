{
 "cells": [
  {
   "cell_type": "markdown",
   "metadata": {},
   "source": [
    "# Router\n",
    "\n",
    "로직과 URL 을  자동으로 결정하는 기능을 제공하는 것\n",
    "Router 는 자동으로 URL 라우팅을 지원하고 신속하고 일관성 있는 방법을 제공함"
   ]
  },
  {
   "cell_type": "code",
   "execution_count": 3,
   "metadata": {},
   "outputs": [],
   "source": [
    "# ModelViewSet 을 사용하는 것과 연결 후 사용 가능한 API 목록을 확인\n",
    "class UserViewSet(viewSets.GenericViewSet, mixins.ListModelMixin, mixins.CreateModelMxin):\n",
    "    queryset = User.objects.all()\n",
    "    serializer_class = UserSerializer\n",
    "    \n",
    "    @action(detail=True, methods=['POST'])\n",
    "    def set_admin(self, request, *args, **kwargs):\n",
    "        instance = self.get_object()\n",
    "        instance.is_admin = True\n",
    "        instance.save()\n",
    "        \n",
    "        return Response(status=status.HTTP_200_SUCCESS)\n",
    "\n",
    "router = SimpleRouter()\n",
    "router.register('user', UserViewSet)\n",
    "\n",
    "urlpatterns = router.urls"
   ]
  },
  {
   "cell_type": "code",
   "execution_count": null,
   "metadata": {},
   "outputs": [],
   "source": [
    "# Action 을 확장하고 API 목록을 확인"
   ]
  }
 ],
 "metadata": {
  "kernelspec": {
   "display_name": "Django Shell-Plus",
   "language": "python",
   "name": "django_extensions"
  },
  "language_info": {
   "codemirror_mode": {
    "name": "ipython",
    "version": 3
   },
   "file_extension": ".py",
   "mimetype": "text/x-python",
   "name": "python",
   "nbconvert_exporter": "python",
   "pygments_lexer": "ipython3",
   "version": "3.8.2"
  }
 },
 "nbformat": 4,
 "nbformat_minor": 4
}
