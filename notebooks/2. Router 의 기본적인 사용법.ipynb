{
 "cells": [
  {
   "cell_type": "markdown",
   "metadata": {},
   "source": [
    "# Router\n",
    "\n",
    "Router 는 ViewSet 을 보고 URL 을 일관성 있고 빠르게 연결할 수 있는 기능을 제공합니다.\n"
   ]
  },
  {
   "cell_type": "markdown",
   "metadata": {},
   "source": [
    "# Router 사용해보기\n",
    "\n",
    "https://www.django-rest-framework.org/api-guide/routers/#usage\n",
    "\n",
    "## 목적\n",
    "\n",
    "- 기본적인 Router 사용 방법을 익혀봅니다.\n",
    "\n",
    "---"
   ]
  },
  {
   "cell_type": "markdown",
   "metadata": {},
   "source": [
    "## 문제\n",
    "\n",
    "위 링크를 참고하여 아래 URL 이 나올 수 있도록 ViewSet 을 만들고 연결해주세요.\n",
    "\n",
    "- GET `/users/`\n",
    "- GET `/users/<int:pk>/`\n",
    "\n",
    "---"
   ]
  },
  {
   "cell_type": "code",
   "execution_count": null,
   "metadata": {},
   "outputs": [],
   "source": [
    "from django.contrib.auth import get_user_model\n",
    "from rest_framework import serializers, viewsets, routers\n",
    "\n",
    "User = get_user_model()\n",
    "\n",
    "\n",
    "# 지금은 몰라도 됩니다!\n",
    "class UserSerializer(serializers.ModelSerializer):\n",
    "    class Meta:\n",
    "        model = User\n",
    "        fields = \"__all__\"\n",
    "\n",
    "        \n",
    "# 이전에 배웠었죠!?\n",
    "class UserViewSet(viewsets.ModelViewSet):\n",
    "    queryset = User.objects.all()\n",
    "    serializer_class = UserSerializer\n",
    "\n",
    "# ----------------------\n",
    "# 이부분을 완성해주세요!\n",
    "# ----------------------\n",
    "router = 'Router 를 생성해서 router 변수에 넣어주세요.'\n",
    "urlpatterns = '생성된 router 를 urlpatterns 와 연결해주세요.'"
   ]
  },
  {
   "cell_type": "code",
   "execution_count": null,
   "metadata": {},
   "outputs": [],
   "source": [
    "from solves.tutorial.router import solve1\n",
    "\n",
    "solve1(urlpatterns)"
   ]
  },
  {
   "cell_type": "markdown",
   "metadata": {},
   "source": [
    "# Router 의 기본 동작에 대한 문답\n",
    "\n",
    "https://www.django-rest-framework.org/api-guide/routers/#usage\n",
    "\n",
    "## 목적\n",
    "\n",
    "- Router 를 사용했을 때 어떤 URL, reverse name 을 갖게 되는지 이해합니다.\n",
    "\n",
    "---"
   ]
  },
  {
   "cell_type": "markdown",
   "metadata": {},
   "source": [
    "## 문제\n",
    "\n",
    "\n",
    "- 위 링크를 참고하여 아래의 변수에 각 문제의 답을 채워넣어주세요.\n",
    "\n",
    "---"
   ]
  },
  {
   "cell_type": "code",
   "execution_count": null,
   "metadata": {},
   "outputs": [],
   "source": [
    "from django.contrib.auth import get_user_model\n",
    "from rest_framework import serializers, viewsets, routers\n",
    "\n",
    "User = get_user_model()\n",
    "\n",
    "# 지금은 몰라도 됩니다!\n",
    "class UserSerializer(serializers.ModelSerializer):\n",
    "    class Meta:\n",
    "        model = User\n",
    "        fields = \"__all__\"\n",
    "\n",
    "# 이전에 배웠었죠!?\n",
    "class UserViewSet(viewsets.ModelViewSet):\n",
    "    queryset = User.objects.all()\n",
    "    serializer_class = UserSerializer\n",
    "\n",
    "\n",
    "router = routers.SimpleRouter()\n",
    "router.register('accounts', UserViewSet)\n",
    "\n",
    "# ---------------------------------------------------------------\n",
    "# 1. URL 은 어떻게 생성되나요? ( 아래 형태에 맞게 적어주세요 )\n",
    "#   - 예시 ) answer = ['posts/', 'posts/<int:pk>/']\n",
    "# ---------------------------------------------------------------\n",
    "\n",
    "answer1 = [\n",
    "    ''\n",
    "]\n",
    "\n",
    "# ---------------------------------------------------------------\n",
    "# 2. reverse_name 은 어떻게 생성되나요? ( 아래 형태에 맞게 적어주세요. )\n",
    "#   - 예시 ) answer = ['post-publish', 'post-detail']\n",
    "# ---------------------------------------------------------------\n",
    "\n",
    "answer2 = [\n",
    "    '',\n",
    "]\n",
    "\n",
    "# ----------------\n",
    "# -- Router 변경 --\n",
    "# ----------------\n",
    "\n",
    "router.register('people', UserViewSet, basename='person')\n",
    "\n",
    "# ---------------------------------------------------------------\n",
    "# 3. URL 은 어떻게 생성되나요? ( 아래 형태에 맞게 적어주세요 )\n",
    "#   - 예시 ) answer = ['posts/', 'posts/<int:pk>/']\n",
    "# ---------------------------------------------------------------\n",
    "\n",
    "answer3 = [\n",
    "    '',\n",
    "]\n",
    "\n",
    "# ---------------------------------------------------------------\n",
    "# 4. URL 은 어떻게 생성되나요? ( 아래 형태에 맞게 적어주세요 )\n",
    "#   - 예시 ) answer = ['posts/', 'posts/<int:pk>/']\n",
    "# ---------------------------------------------------------------\n",
    "\n",
    "answer4 = [\n",
    "    '',\n",
    "]"
   ]
  },
  {
   "cell_type": "code",
   "execution_count": null,
   "metadata": {},
   "outputs": [],
   "source": [
    "from solves.tutorial.router import solve2\n",
    "\n",
    "solve2(answer1, answer2, answer3, answer4)"
   ]
  },
  {
   "cell_type": "markdown",
   "metadata": {},
   "source": [
    "## 참고\n",
    "\n",
    "### Basename\n",
    "\n",
    "Router 의 `basename` 인수는 기본적으로 ViewSet 의 queryset 에 지정되어 있는 모델의 이름을 따라갑니다.\n",
    "\n",
    "---\n",
    "\n",
    "```python\n",
    "class UserViewSet(viewsets.ModelViewSet):\n",
    "    queryset = User.objects.all()\n",
    "    # queryset 의 모델이 `User` 이기 때문에 basename 은 `user` 가 됩니다.\n",
    "    # basename 은 reverse_name 을 만들 때 사용됩니다.\n",
    "    # `user-list`, `user-detail` 이 자동으로 reverse name 으로 생성되겠죠?\n",
    "    serializer_class = UserSerializer\n",
    "```\n",
    "\n",
    "---\n",
    "\n",
    "### ViewSet 에 queryset 이 주어지지 않았을 경우의 basename\n",
    "\n",
    "만약 ViewSet 에 queryset 을 정의하지 않았을 때 basename 을 지정하지 않으면 오류가 발생합니다.\n",
    "\n",
    "---\n",
    "\n",
    "```python\n",
    "class UserViewSet(viewsets.ModelViewSet):\n",
    "    serializer_class = UserSerializer\n",
    "    \n",
    "    # queryset 대신 get_queryset 을 사용하여 queryset 을 등록했다면\n",
    "    # Router 에서는 basename 을 찾을 수 없게됩니다.\n",
    "    # 때문에 basename 을 직접 지정해주어야합니다.\n",
    "    def get_queryset(self):\n",
    "        return User.objects.all()\n",
    "    \n",
    "router = SimpleRouter()\n",
    "# ... 이렇게요!\n",
    "router.register('users', UserViewSet, basename='custom-user')\n",
    "# 이렇게 등록하게되면 reverse name 은 \n",
    "# `custom-user-list`, `custom-user-detail` 이 생성되겠죠?\n",
    "```\n",
    "\n",
    "---\n"
   ]
  },
  {
   "cell_type": "markdown",
   "metadata": {},
   "source": [
    "# 이미 채워져 있는 urlpattern 에 Router 를 추가하는 방법\n",
    "\n",
    "https://www.django-rest-framework.org/api-guide/routers/#using-include-with-routers\n",
    "\n",
    "## 목적\n",
    "\n",
    "- urlpattern 에 router 의 URL 을 연결할 수 있는 두가지 방법을 이해합니다.\n",
    "\n",
    "---"
   ]
  },
  {
   "cell_type": "markdown",
   "metadata": {},
   "source": [
    "## 문제1\n",
    "\n",
    "- 위 링크를 참고하여 두가지 방법을 사용하여 urlpatterns1, urlpatterns2 를 채워주세요."
   ]
  },
  {
   "cell_type": "code",
   "execution_count": null,
   "metadata": {},
   "outputs": [],
   "source": [
    "from django.contrib.auth import get_user_model\n",
    "from rest_framework import serializers, viewsets, routers\n",
    "from django.urls import include, path\n",
    "\n",
    "User = get_user_model()\n",
    "\n",
    "# 지금은 몰라도 됩니다!\n",
    "class UserSerializer(serializers.ModelSerializer):\n",
    "    class Meta:\n",
    "        model = User\n",
    "        fields = \"__all__\"\n",
    "\n",
    "# 이전에 배웠었죠!?\n",
    "class UserViewSet(viewsets.ModelViewSet):\n",
    "    queryset = User.objects.all()\n",
    "    serializer_class = UserSerializer\n",
    "\n",
    "\n",
    "router = routers.SimpleRouter()\n",
    "router.register('users', UserViewSet)\n",
    "\n",
    "# ------------------------------------------------------------------------\n",
    "# 다른 방식으로 각 urlpatterns 를 router 와 연결해주세요!\n",
    "# 두 urlpatterns 모두 `users/` `users/<int:pk>/` 를 가지는 URL 이 나와야합니다.\n",
    "# ------------------------------------------------------------------------\n",
    "\n",
    "urlpatterns1 = [\n",
    "    # ... 기존에 다른 View 가 연결되어 있다고 가정합니다!\n",
    "]\n",
    "urlpatterns1 = 'router 를 urlpattern1 에 연결해주세요.'\n",
    "\n",
    "\n",
    "\n",
    "urlpatterns2 = [\n",
    "    # ... 기존에 다른 View 가 연결되어 있다고 가정합니다!\n",
    "    path('', include(router.urls))\n",
    "]  # router 를 urlpatterns2 에 연결해주세요.\n"
   ]
  },
  {
   "cell_type": "code",
   "execution_count": null,
   "metadata": {},
   "outputs": [],
   "source": [
    "from solves.tutorial.router import solve3\n",
    "\n",
    "solve3(urlpatterns1, urlpatterns2)"
   ]
  },
  {
   "cell_type": "markdown",
   "metadata": {},
   "source": [
    "# ViewSet 의 Action 에 대한 Router 의 동작\n",
    "\n",
    "https://www.django-rest-framework.org/api-guide/routers/#routing-for-extra-actions\n",
    "\n",
    "## 목적\n",
    "\n",
    "- ViewSet 의 Action 을 생성했을 때 어떤 URL, reverse name 을 생성하는지 이해합니다.\n",
    "- ViewSet 의 Action 의 url_path, url_name 인자의 사용법을 이해합니다.\n",
    "\n",
    "---"
   ]
  },
  {
   "cell_type": "markdown",
   "metadata": {},
   "source": [
    "## 문제1\n",
    "\n",
    "- 위의 링크를 참고하여 답을 채워넣어주세요.\n",
    "\n",
    "---"
   ]
  },
  {
   "cell_type": "code",
   "execution_count": null,
   "metadata": {},
   "outputs": [],
   "source": [
    "from django.contrib.auth import get_user_model\n",
    "from rest_framework import serializers, viewsets, routers\n",
    "from rest_framework.decorators import action\n",
    "\n",
    "User = get_user_model()\n",
    "\n",
    "# 지금은 몰라도 됩니다!\n",
    "class UserSerializer(serializers.ModelSerializer):\n",
    "    class Meta:\n",
    "        model = User\n",
    "        fields = \"__all__\"\n",
    "\n",
    "# 이전에 배웠었죠!?\n",
    "class UserViewSet(viewsets.ModelViewSet):\n",
    "    queryset = User.objects.all()\n",
    "    serializer_class = UserSerializer\n",
    "    \n",
    "    @action(methods=['post'], detail=True)\n",
    "    def set_admin(self, request, pk=None):\n",
    "        # ... 어떤 코드가 있습니다.\n",
    "        pass\n",
    "    \n",
    "router = routers.SimpleRouter()\n",
    "router.register('users', UserViewSet)\n",
    "\n",
    "# ------------------------------------------\n",
    "# set_admin action 은 어떤 URL 로 만들어지나요?\n",
    "# - 예 ) answer = 'post/<int:pk>/'\n",
    "# ------------------------------------------\n",
    "answer1 = ''\n",
    "\n",
    "# ----------------------------------------------------\n",
    "# set_admin action 은 어떤 reverse_name 을 가지게 되나요?\n",
    "# - 예 ) answer = 'post-list'\n",
    "# ----------------------------------------------------\n",
    "answer2 = ''"
   ]
  },
  {
   "cell_type": "code",
   "execution_count": null,
   "metadata": {},
   "outputs": [],
   "source": [
    "from solves.tutorial.router import solve4\n",
    "\n",
    "solve4(answer1, answer2)"
   ]
  },
  {
   "cell_type": "markdown",
   "metadata": {},
   "source": [
    "---\n",
    "## 문제 2\n",
    "\n",
    "- 위의 링크를 참고하여 해당 결과가 나올 수 있도록 수정해주세요.\n",
    "\n",
    "- URL: `users/change-admin`\n",
    "- reverse name: `user-set-admin`\n",
    "\n",
    "---"
   ]
  },
  {
   "cell_type": "code",
   "execution_count": null,
   "metadata": {},
   "outputs": [],
   "source": [
    "from django.contrib.auth import get_user_model\n",
    "from rest_framework import serializers, viewsets, routers\n",
    "from rest_framework.decorators import action\n",
    "\n",
    "User = get_user_model()\n",
    "\n",
    "# 지금은 몰라도 됩니다!\n",
    "class UserSerializer(serializers.ModelSerializer):\n",
    "    class Meta:\n",
    "        model = User\n",
    "        fields = \"__all__\"\n",
    "\n",
    "# 이전에 배웠었죠!?\n",
    "class UserViewSet(viewsets.ModelViewSet):\n",
    "    queryset = User.objects.all()\n",
    "    serializer_class = UserSerializer\n",
    "    \n",
    "    # -----------------------------------\n",
    "    # 이부분을 수정해서 문제의 정답을 맞춰주세요!\n",
    "    # -----------------------------------\n",
    "    def set_admin(self, request, pk=None):\n",
    "        # ... 어떤 코드가 있습니다.\n",
    "        pass\n",
    "    \n",
    "router = routers.SimpleRouter()\n",
    "router.register('users', UserViewSet)\n",
    "\n",
    "urlpatterns = router.urls"
   ]
  },
  {
   "cell_type": "code",
   "execution_count": null,
   "metadata": {},
   "outputs": [],
   "source": [
    "from solves.tutorial.router import solve5\n",
    "\n",
    "solve5(urlpatterns)"
   ]
  },
  {
   "cell_type": "markdown",
   "metadata": {},
   "source": [
    "# SimpleRouter vs DefaultRouter\n",
    "\n",
    "DefaultRouter 는 SimpleRouter 와 거의 비슷하지만 하이퍼링크를 포함합니다."
   ]
  },
  {
   "cell_type": "code",
   "execution_count": null,
   "metadata": {},
   "outputs": [],
   "source": []
  },
  {
   "cell_type": "code",
   "execution_count": null,
   "metadata": {},
   "outputs": [],
   "source": []
  }
 ],
 "metadata": {
  "kernelspec": {
   "display_name": "Django Shell-Plus",
   "language": "python",
   "name": "django_extensions"
  },
  "language_info": {
   "codemirror_mode": {
    "name": "ipython",
    "version": 3
   },
   "file_extension": ".py",
   "mimetype": "text/x-python",
   "name": "python",
   "nbconvert_exporter": "python",
   "pygments_lexer": "ipython3",
   "version": "3.8.6"
  }
 },
 "nbformat": 4,
 "nbformat_minor": 4
}
